{
 "cells": [
  {
   "cell_type": "markdown",
   "metadata": {},
   "source": [
    "# Main evolution \n",
    "Check Input.py file to set box size and other parameters "
   ]
  },
  {
   "cell_type": "code",
   "execution_count": 126,
   "metadata": {},
   "outputs": [],
   "source": [
    "%matplotlib inline\n",
    "from numpy import *\n",
    "import matplotlib.pyplot as plt\n",
    "from matplotlib import cm\n",
    "import pandas as pd\n",
    "from numpy import random\n",
    "from numba import jit,njit,prange\n",
    "from scipy import fftpack\n",
    "from scipy.fft import fft, ifft, fft2,fftshift\n",
    "from random import randrange\n",
    "import sys\n",
    "\n",
    "sys.path.insert(0, '/Users/z5278074/OneDrive - UNSW/AxionSimulations/PQsim/Scripts/') \n",
    "sys.path.insert(0, '/Users/z5278074/OneDrive - UNSW/AxionSimulations/PQsim/') \n",
    "#sys.path.insert(0, '/home/z5278074/PQaxions/Scripts/') # ON KATANA\n",
    "\n",
    "from Input import *\n",
    "\n",
    "from Spatial import Laplacian_2D, Laplacian_3D, Gradient_2D\n",
    "from StringID import cores_pi,cores_std,histo_std\n",
    "from Plot import TwilightPlot,Snap_Save,FourierPlot,RdBuPlot,BinaryPlot,cbar\n",
    "from Init import init_noise, kernels\n",
    "\n",
    "\n",
    "mov_dir2D = '/Users/z5278074/OneDrive - UNSW/AxionSimulations/PQsim/Output/Snapshots/2D/'\n",
    "mov_dir3D = '/Users/z5278074/OneDrive - UNSW/AxionSimulations/PQsim/Output/Snapshots/3D/'\n",
    "#mov_dir2D = '/home/z5278074/PQaxions/Output/Snapshots/2D/' # ON KATANA\n",
    "#mov_dir3D = '/home/z5278074/PQaxions/Output/Snapshots/3D/' # ON KATANA\n",
    "\n",
    "############################################################################\n",
    "# OPEN OUTPUT FILES - uncomment to use\n",
    "############################################################################\n",
    "\n",
    "\n",
    "#scaling2D = open(\"/Users/z5278074/OneDrive - UNSW/AxionSimulations/PQsim/Output/Data/scaling2D.txt\",\"w+\")\n",
    "#scaling3D = open(\"/Users/z5278074/OneDrive - UNSW/AxionSimulations/PQsim/Output/Data/scaling3D.txt\",\"w+\")\n",
    "#energy = open(\"/Users/z5278074/OneDrive - UNSW/AxionSimulations/PQsim/Output/Data/energy.txt\",\"w+\")\n",
    "#----------------------------------------------------------------------------\n",
    "\n",
    "phi1,phi2,phidot1,phidot2 = init_noise(N)\n",
    "K1,K2 = kernels(phi1,phi2,phidot1,phidot2)\n",
    "\n",
    "final_step = light_time-int(1/DeltaRatio)+1\n",
    "\n",
    "# FOR 3D PLOTTING \n",
    "z_slice = randrange(N-1)\n",
    "\n",
    "for tstep in range(0,light_time-int(1/DeltaRatio)+1):\n",
    "    \n",
    "    #----------------------------------------------------------------------------\n",
    "    # KDK EVOLUTION\n",
    "    #----------------------------------------------------------------------------\n",
    "    \n",
    "    phi1 = phi1 + dtau*(phidot1 + 0.5*K1*dtau)\n",
    "    phi2 = phi2 + dtau*(phidot2 + 0.5*K2*dtau)\n",
    "    t_evol = t_evol + dtau\n",
    "    K1_next, K2_next = kernels(phi1,phi2,phidot1,phidot2)\n",
    "    if NDIMS == 2:\n",
    "        K1_next = Laplacian_2D(phi1,dx,N) - 2*(Era/t_evol)*phidot1 - lambdaPRS*phi1*(phi1**2.0+phi2**2.0 - 1)\n",
    "        K2_next = Laplacian_2D(phi2,dx,N) - 2*(Era/t_evol)*phidot2 - lambdaPRS*phi2*(phi1**2.0+phi2**2.0 - 1)\n",
    "    if NDIMS == 3:\n",
    "        K1_next = Laplacian_3D(phi1,dx,N) - 2*(Era/t_evol)*phidot1 - lambdaPRS*phi1*(phi1**2.0+phi2**2.0 - 1)\n",
    "        K2_next = Laplacian_3D(phi2,dx,N) - 2*(Era/t_evol)*phidot2 - lambdaPRS*phi2*(phi1**2.0+phi2**2.0 - 1)\n",
    "    phidot1 = phidot1 + 0.5*(K1 + K1_next)*dtau\n",
    "    phidot2 = phidot2 + 0.5*(K2 + K2_next)*dtau\n",
    "    K1 = 1.0*K1_next\n",
    "    K2 = 1.0*K2_next\n",
    "    \n",
    "    #----------------------------------------------------------------------------\n",
    "    # TEMPORAL QUANTITIES\n",
    "    #----------------------------------------------------------------------------\n",
    "    \n",
    "    kappa = log(t_evol/ms) # String tension (also time variable)\n",
    "    R = t_evol/(ms*L) # Scale factor in L units\n",
    "    time = t0*(R/R0*ms)**2.0 # Cosmic time in L units \n",
    "    \n",
    "    #----------------------------------------------------------------------------\n",
    "    # FIELDS \n",
    "    #----------------------------------------------------------------------------\n",
    "    \n",
    "    PHI = phi1 + 1j * phi2\n",
    "    PHIDOT = phidot1 +1j * phidot2\n",
    "    saxion = sqrt(phi1**2.0+phi2**2.0) # Or abs(PHI)\n",
    "    axion = arctan2(phi1,phi2)\n",
    "    \n",
    "    #----------------------------------------------------------------------------\n",
    "    # STRINGS AND SCALING - uncomment to use\n",
    "    #----------------------------------------------------------------------------\n",
    "    \n",
    "#     Nchecks = 40\n",
    "#     to_analyse = arange(0, final_step,int(final_step/Nchecks))\n",
    "#     thr = 1 # In % value\n",
    "#     if i in to_find:\n",
    "#         num_cores = cores_pi(axion,N,thr) # Call cores_pi2 to use pi/2 method\n",
    "#         thetasum = cores_std(axion,N,thr) # Array of values of DeltaTheta over the loop (useful for the histogram)\n",
    "#         histo, ax_histo = histo_std(thetasum, log(t_evol),num_cores) # Histogram plot \n",
    "#         xi_2D = num_cores*time**2.0/(t_evol**2.0) # Scaling parameter\n",
    "#         scaling2D.write('%f %f \\n' % (kappa,xi_2D))\n",
    "#         print(kappa,xi_3D) # if output is for array job \n",
    "#         \n",
    "#         num_plaqs = plaq_pi(axion,N,thr)\n",
    "#         xi_3D = num_plaqs*time**2.0/(t_evol**3.0)\n",
    "#         scaling3D.write('%f %f \\n' % (kappa,xi_3D))\n",
    "#         print(kappa,xi_3D) # if output is for array job \n",
    "        \n",
    "    #----------------------------------------------------------------------------\n",
    "    # ENERGIES - uncomment to use\n",
    "    #----------------------------------------------------------------------------\n",
    "    \n",
    "#    saxiondot = PHIDOT \n",
    "#    axiondot = (PHIDOT/PHI).imag\n",
    "#    axiondot_screen = saxion*axiondot\n",
    "#    saxiongrad = Gradient_2D(saxion,dx,N)\n",
    "#    axiongrad = Gradient_2D(axion,dx,N)\n",
    "#    saxkin = 0.5*saxiondot**2.0\n",
    "#    axkin = 0.5*axiondot**2.0\n",
    "#    pot = lambdaPRS*(saxion**2.0-fa)**2.0 # Saxion potential energy\n",
    "\n",
    "    #----------------------------------------------------------------------------\n",
    "    # SNAPSHOTS - uncomment to use\n",
    "    #----------------------------------------------------------------------------\n",
    "\n",
    "    # 2D\n",
    "#     to_print = arange(0, final_step,int(final_step/30))\n",
    "#     if tstep in to_print:\n",
    "#         fig,ax = FourierPlot(axion,N,L,tstep,11,10)\n",
    "#         Snap_Save(fig,tstep,mov_dir2D)\n",
    "#         fig_axion,ax_axion = TwilightPlot(axion,t_evol)\n",
    "#         fig_saxion,ax_saxion = RdBuPlot(saxion,t_evol)\n",
    "#         Snap_Save(fig_axion,tstep,mov_dir2D)\n",
    "#         Snap_Save(fig_saxion,tstep,mov_dir2D)\n",
    "    # 3D\n",
    "#    fig_axion_projected,ax_axion_projected = TwilightPlot(axion[0:,0:,z_slice],t_evol)\n",
    "#    Snap_Save(fig_axion_projected,tstep,mov_dir3D)\n",
    "\n",
    "    \n",
    "############################################################################\n",
    "# CLOSE OUTPUT FILES - uncomment to use\n",
    "############################################################################\n",
    "\n",
    "#scaling2D.close()\n",
    "#scaling3D.close()\n",
    "#energy.close()"
   ]
  },
  {
   "cell_type": "markdown",
   "metadata": {},
   "source": [
    "## Plots of axion velocity field \n",
    "With screening we remove kinetic energy coming from the strings"
   ]
  },
  {
   "cell_type": "code",
   "execution_count": 99,
   "metadata": {
    "scrolled": false
   },
   "outputs": [],
   "source": [
    "# COMPARE VELOCITY AND SCREENED VELOCITY \n",
    "# from PlotFuncs import MySquarePlot,cbar\n",
    "#fig1,ax1 = RdBuPlot(axiondot,tstep)\n",
    "#fig2,ax2 = RdBuPlot(axiondot_screen,tstep)"
   ]
  },
  {
   "cell_type": "code",
   "execution_count": 98,
   "metadata": {},
   "outputs": [],
   "source": [
    "#fig1,ax1 = FourierPlot(axion[:,:,z_slice],N,L,tstep,11,10)\n",
    "#fig3,ax3 = FourierPlot(axiondot,N,L,tstep,4,3)\n",
    "#fig4,ax4 = FourierPlot(axiondot_screen,N,L,tstep,4,3)"
   ]
  },
  {
   "cell_type": "markdown",
   "metadata": {},
   "source": [
    "## For 3D simulations\n",
    "Plot 2D slices from random selection or through an entire axis "
   ]
  },
  {
   "cell_type": "code",
   "execution_count": 100,
   "metadata": {},
   "outputs": [],
   "source": [
    "#print(\"Random slice selected: z =\",z_slice)\n",
    "#fig_axion_projected,ax_axion_projected = TwilightPlot(axion[0:,0:,z_slice],t_evol)\n",
    "#\n",
    "# SCAN THE Z-DIRECTION\n",
    "# for i in range(N-1):\n",
    "#     fig_i, ax_i = TwilightPlot(axion[0:,0:,i],t_evol)\n",
    "#     Snap_Save(fig_i,i,mov_dir2D)"
   ]
  },
  {
   "cell_type": "markdown",
   "metadata": {},
   "source": [
    "# Power spectrum of relativistic axions\n",
    "Comparison between screening (blue) and no screening (red)\n",
    "\n",
    "***TO CHECK UNITS***"
   ]
  },
  {
   "cell_type": "code",
   "execution_count": 210,
   "metadata": {},
   "outputs": [],
   "source": [
    "y1 = fftshift(fft2(axiondot))\n",
    "y2 = fftshift(fft2(axiondot_screen))\n",
    "dk = 2*pi/L\n",
    "kx = linspace(-pi+dk,pi,N-1)\n",
    "KX,KY = meshgrid(kx,kx)\n",
    "K = sqrt(KX**2+KY**2)\n",
    "P1 = abs(y1[1:,1:])**2\n",
    "P2 = abs(y2[1:,1:])**2\n",
    "#print(5/t_evol) # k=5H"
   ]
  },
  {
   "cell_type": "code",
   "execution_count": 207,
   "metadata": {},
   "outputs": [
    {
     "data": {
      "image/png": "[encoded data removed]",
      "text/plain": [
       "<Figure size 864x504 with 1 Axes>"
      ]
     },
     "metadata": {
      "needs_background": "light"
     },
     "output_type": "display_data"
    }
   ],
   "source": [
    "from PlotFuncs import MySquarePlot\n",
    "#fig1,ax1 = MySquarePlot()\n",
    "#fig2,ax2 = MySquarePlot()\n",
    "# Plot 1D power spectrum\n",
    "plt.figure(figsize=(12,7))\n",
    "from scipy import stats\n",
    "H1,k_bins1,ik1 = stats.binned_statistic(log(K.flatten()),P1.flatten(),bins=25)\n",
    "H2,k_bins2,ik2 = stats.binned_statistic(log(K.flatten()),P2.flatten(),bins=25)\n",
    "#H /= sum(H)\n",
    "k_bin_centers1 = (k_bins1[1:]+k_bins1[0:-1])/2\n",
    "k_bin_centers2 = (k_bins2[1:]+k_bins2[0:-1])/2\n",
    "plt.grid()\n",
    "plt.rcParams['axes.linewidth'] = 2\n",
    "plt.rc('text', usetex=True)\n",
    "plt.rc('font', family='serif',size=25)\n",
    "plt.loglog(exp(k_bin_centers1),H1/(L**2.0*t_evol),lw=3,c='r') \n",
    "plt.loglog(exp(k_bin_centers2),H2/(L**2.0*t_evol),lw=3,c='b')\n",
    "plt.xlim(0.01, 2)\n",
    "plt.text(0.6,0.000015,\"UV cutoff\")\n",
    "plt.text(0.019,0.000015,r\"IR cutoff ($k/H\\sim 5$)\")\n",
    "plt.xlabel(r'$k/m_s$',labelpad=10)\n",
    "plt.ylabel(r'$\\frac{P(k)}{Hf_a^2}$',rotation=0,labelpad=50)\n",
    "plt.gca().legend((r'$\\langle\\vert\\dot{\\tilde{a}}_k\\vert^2\\rangle$',r'$\\langle\\vert\\dot{\\tilde{a}}_k\\vert^2\\rangle_s$'))\n",
    "plt.show()"
   ]
  },
  {
   "cell_type": "code",
   "execution_count": null,
   "metadata": {},
   "outputs": [],
   "source": []
  }
 ],
 "metadata": {
  "kernelspec": {
   "display_name": "Python 3",
   "language": "python",
   "name": "python3"
  },
  "language_info": {
   "codemirror_mode": {
    "name": "ipython",
    "version": 3
   },
   "file_extension": ".py",
   "mimetype": "text/x-python",
   "name": "python",
   "nbconvert_exporter": "python",
   "pygments_lexer": "ipython3",
   "version": "3.8.5"
  }
 },
 "nbformat": 4,
 "nbformat_minor": 4
}
